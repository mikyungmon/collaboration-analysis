{
 "cells": [
  {
   "cell_type": "code",
   "execution_count": 3,
   "metadata": {},
   "outputs": [],
   "source": [
    "# 파일을 열고 내용을 읽은 후, 지정된 이름을 Speaker ID로 변경\n",
    "def replace_names_in_file(file_path):\n",
    "    # 대체할 이름과 Speaker ID 매핑\n",
    "    name_to_speaker = {\n",
    "        \"손준영\": \"Speaker SPEAKER_04\",\n",
    "        \"선영훈형\": \"Speaker SPEAKER_03\",\n",
    "        \"이미경누나\": \"Speaker SPEAKER_01\",\n",
    "        \"김현서\": \"Speaker SPEAKER_02\",\n",
    "        \"노해수형\": \"Speaker SPEAKER_00\"\n",
    "    }\n",
    "\n",
    "    # 변경된 내용을 저장할 문자열\n",
    "    updated_content = \"\"\n",
    "\n",
    "    # 파일을 읽고 각 줄을 처리\n",
    "    with open(file_path, 'r', encoding='utf-8') as file:\n",
    "        for line in file:\n",
    "            # 각 이름을 해당 Speaker ID로 변경\n",
    "            for name, speaker_id in name_to_speaker.items():\n",
    "                line = line.replace(name, speaker_id)\n",
    "            # 변경된 줄을 추가\n",
    "            updated_content += line\n",
    "\n",
    "    # 변경된 내용을 같은 파일에 다시 쓰기\n",
    "    with open(file_path, 'w', encoding='utf-8') as file:\n",
    "        file.write(updated_content)\n",
    "\n",
    "\n",
    "# 함수 호출 예시\n",
    "replace_names_in_file('transcriptions/kakao/kakaotalk_conversation.txt')"
   ]
  }
 ],
 "metadata": {
  "kernelspec": {
   "display_name": "Python 3",
   "language": "python",
   "name": "python3"
  },
  "language_info": {
   "codemirror_mode": {
    "name": "ipython",
    "version": 3
   },
   "file_extension": ".py",
   "mimetype": "text/x-python",
   "name": "python",
   "nbconvert_exporter": "python",
   "pygments_lexer": "ipython3",
   "version": "3.10.1"
  }
 },
 "nbformat": 4,
 "nbformat_minor": 2
}
